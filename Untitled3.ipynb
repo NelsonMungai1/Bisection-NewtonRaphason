{
 "cells": [
  {
   "cell_type": "code",
   "execution_count": 9,
   "id": "9529d53f",
   "metadata": {},
   "outputs": [],
   "source": [
    "import math\n",
    "from timeit import timeit\n",
    "def f(x):\n",
    "    return x**5+5*x**4-2\n",
    "def df(x):\n",
    "    return 5*x**4+20*x**3\n"
   ]
  },
  {
   "cell_type": "code",
   "execution_count": 19,
   "id": "eefd8225",
   "metadata": {},
   "outputs": [],
   "source": [
    "x0=1\n",
    "tolerance=1e-6\n",
    "max_iterations=1000"
   ]
  },
  {
   "cell_type": "code",
   "execution_count": 20,
   "id": "ae13f73b",
   "metadata": {},
   "outputs": [
    {
     "name": "stdout",
     "output_type": "stream",
     "text": [
      "no of iteration 0\n",
      "no of iteration 1\n",
      "no of iteration 2\n",
      "no of iteration 3\n",
      "Root of the function is:0.7673841355952213\n",
      "Time taken to run the program:\n",
      "0.020106100000020888\n"
     ]
    }
   ],
   "source": [
    "for i in range(max_iterations):\n",
    "    fx=f(x0)\n",
    "    dfx=df(x0)\n",
    "    x1=x0-(fx/dfx)\n",
    "    print(f'no of iteration {i}')\n",
    "    if abs(f(x1))<tolerance:\n",
    "        print(f'Root of the function is:{x1}')\n",
    "        print(f'Time taken to run the program:')\n",
    "        print(+timeit())\n",
    "        break\n",
    "    else:\n",
    "        x0=x1\n"
   ]
  },
  {
   "cell_type": "code",
   "execution_count": 16,
   "id": "edf75ac9",
   "metadata": {},
   "outputs": [
    {
     "name": "stdout",
     "output_type": "stream",
     "text": [
      "[-20 -19 -18 -17 -16 -15 -14 -13 -12 -11 -10  -9  -8  -7  -6  -5  -4  -3\n",
      "  -2  -1   0   1   2   3   4   5   6   7   8   9  10  11  12  13  14  15\n",
      "  16  17  18  19]\n",
      "[-2400002 -1824496 -1364690 -1002254  -720898  -506252  -345746  -228490\n",
      "  -145154   -87848   -50002   -26246   -12290    -4804    -1298       -2\n",
      "      254      160       46        2       -2        4      110      646\n",
      "     2302     6248    14254    28810    53246    91852   149998   234254\n",
      "   352510   514096   729902  1012498  1376254  1837460  2414446  3127702]\n"
     ]
    },
    {
     "data": {
      "text/plain": [
       "[<matplotlib.lines.Line2D at 0x26f7668afa0>]"
      ]
     },
     "execution_count": 16,
     "metadata": {},
     "output_type": "execute_result"
    },
    {
     "data": {
      "image/png": "[encoded data removed]",
      "text/plain": [
       "<Figure size 432x288 with 1 Axes>"
      ]
     },
     "metadata": {
      "needs_background": "light"
     },
     "output_type": "display_data"
    }
   ],
   "source": [
    "import matplotlib.pyplot as plt\n",
    "import numpy as np\n",
    "x=np.array(range(-20,20))\n",
    "print(x)\n",
    "y=x**5+5*x**4-2\n",
    "print(y)\n",
    "plt.plot(x,y)\n"
   ]
  },
  {
   "cell_type": "code",
   "execution_count": 23,
   "id": "b0069b68",
   "metadata": {},
   "outputs": [
    {
     "name": "stdout",
     "output_type": "stream",
     "text": [
      "Iteration number: 0\n",
      "Iteration number: 1\n",
      "Iteration number: 2\n",
      "Iteration number: 3\n",
      "Iteration number: 4\n",
      "Iteration number: 5\n",
      "Iteration number: 6\n",
      "Iteration number: 7\n",
      "Iteration number: 8\n",
      "Iteration number: 9\n",
      "Iteration number: 10\n",
      "Iteration number: 11\n",
      "Iteration number: 12\n",
      "Iteration number: 13\n",
      "Iteration number: 14\n",
      "Iteration number: 15\n",
      "Iteration number: 16\n",
      "Iteration number: 17\n",
      "Iteration number: 18\n",
      "Iteration number: 19\n",
      "Iteration number: 20\n",
      "Iteration number: 21\n",
      "Iteration number: 22\n",
      "Iteration number: 23\n",
      "Found root at 0.767384\n",
      "Time taken for bisection method\n",
      "0.03460820000009335\n"
     ]
    }
   ],
   "source": [
    "def bisection():\n",
    "    a=0\n",
    "    b=3\n",
    "    for i in range(max_iterations):\n",
    "        c=(a+b)/2\n",
    "        print(f'Iteration number: {i}')\n",
    "        if abs(f(c))<tolerance:\n",
    "            print(f'Found root at {c:.6}')\n",
    "            print(\"Time taken for bisection method\")\n",
    "            print(timeit())\n",
    "            break\n",
    "        elif f(c)*f(b)<0:\n",
    "            a=c\n",
    "        else:\n",
    "            b=c\n",
    "\n",
    "bisection()"
   ]
  },
  {
   "cell_type": "code",
   "execution_count": null,
   "id": "8a730eb7",
   "metadata": {},
   "outputs": [],
   "source": []
  },
  {
   "cell_type": "code",
   "execution_count": null,
   "id": "8294ac1c",
   "metadata": {},
   "outputs": [],
   "source": []
  },
  {
   "cell_type": "code",
   "execution_count": null,
   "id": "3cb4f587",
   "metadata": {},
   "outputs": [],
   "source": []
  }
 ],
 "metadata": {
  "kernelspec": {
   "display_name": "Python 3 (ipykernel)",
   "language": "python",
   "name": "python3"
  },
  "language_info": {
   "codemirror_mode": {
    "name": "ipython",
    "version": 3
   },
   "file_extension": ".py",
   "mimetype": "text/x-python",
   "name": "python",
   "nbconvert_exporter": "python",
   "pygments_lexer": "ipython3",
   "version": "3.9.7"
  }
 },
 "nbformat": 4,
 "nbformat_minor": 5
}
