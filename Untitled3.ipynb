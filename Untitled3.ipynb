{
 "cells": [
  {
   "cell_type": "code",
   "execution_count": 1,
   "id": "9529d53f",
   "metadata": {},
   "outputs": [],
   "source": [
    "from timeit import timeit\n",
    "def f(x):\n",
    "    return x**3-2*x-5\n",
    "def df(x):\n",
    "    return 3*x**2-2"
   ]
  },
  {
   "cell_type": "code",
   "execution_count": 2,
   "id": "eefd8225",
   "metadata": {},
   "outputs": [],
   "source": [
    "x0=1\n",
    "tolerance=1e-6\n",
    "max_iterations=100"
   ]
  },
  {
   "cell_type": "code",
   "execution_count": 3,
   "id": "46b07e78",
   "metadata": {},
   "outputs": [
    {
     "data": {
      "text/plain": [
       "range(-20, 20)"
      ]
     },
     "execution_count": 3,
     "metadata": {},
     "output_type": "execute_result"
    }
   ],
   "source": [
    "x=range(-20,20)\n",
    "x"
   ]
  },
  {
   "cell_type": "code",
   "execution_count": 4,
   "id": "ae13f73b",
   "metadata": {},
   "outputs": [
    {
     "name": "stdout",
     "output_type": "stream",
     "text": [
      "no of iteration 0\n",
      "no of iteration 1\n",
      "no of iteration 2\n",
      "no of iteration 3\n",
      "no of iteration 4\n",
      "no of iteration 5\n",
      "no of iteration 6\n",
      "no of iteration 7\n",
      "Root of the function is:2.0945514815642077\n",
      "Time taken to run the program:Nelson\n",
      "0.015697599999999312\n"
     ]
    }
   ],
   "source": [
    "for i in range(max_iterations):\n",
    "    fx=f(x0)\n",
    "    dfx=df(x0)\n",
    "    x1=x0-(fx/dfx)\n",
    "    print(f'no of iteration {i}')\n",
    "    if abs(f(x1))<tolerance:\n",
    "        print(f'Root of the function is:{x1}')\n",
    "        print(f'Time taken to run the program:'+\"Nelson\")\n",
    "        print(+timeit())\n",
    "        break\n",
    "    else:\n",
    "        x0=x1\n"
   ]
  },
  {
   "cell_type": "code",
   "execution_count": 5,
   "id": "7bba3640",
   "metadata": {},
   "outputs": [
    {
     "data": {
      "text/plain": [
       "2.4422508460020254e-10"
      ]
     },
     "execution_count": 5,
     "metadata": {},
     "output_type": "execute_result"
    }
   ],
   "source": [
    "y=x1**3-2*x1-5\n",
    "y"
   ]
  },
  {
   "cell_type": "code",
   "execution_count": 6,
   "id": "edf75ac9",
   "metadata": {},
   "outputs": [
    {
     "name": "stdout",
     "output_type": "stream",
     "text": [
      "[-20 -19 -18 -17 -16 -15 -14 -13 -12 -11 -10  -9  -8  -7  -6  -5  -4  -3\n",
      "  -2  -1   0   1   2   3   4   5   6   7   8   9  10  11  12  13  14  15\n",
      "  16  17  18  19]\n",
      "[-7965 -6826 -5801 -4884 -4069 -3350 -2721 -2176 -1709 -1314  -985  -716\n",
      "  -501  -334  -209  -120   -61   -26    -9    -4    -5    -6    -1    16\n",
      "    51   110   199   324   491   706   975  1304  1699  2166  2711  3340\n",
      "  4059  4874  5791  6816]\n"
     ]
    },
    {
     "data": {
      "text/plain": [
       "<matplotlib.collections.PathCollection at 0x2560cc75c10>"
      ]
     },
     "execution_count": 6,
     "metadata": {},
     "output_type": "execute_result"
    },
    {
     "data": {
      "image/png": "[encoded data removed]",
      "text/plain": [
       "<Figure size 432x288 with 1 Axes>"
      ]
     },
     "metadata": {
      "needs_background": "light"
     },
     "output_type": "display_data"
    }
   ],
   "source": [
    "import matplotlib.pyplot as plt\n",
    "import numpy as np\n",
    "x=np.array(range(-20,20))\n",
    "print(x)\n",
    "y=x**3-2*x-5\n",
    "print(y)\n",
    "plt.scatter(x,y)\n"
   ]
  },
  {
   "cell_type": "code",
   "execution_count": 7,
   "id": "b0069b68",
   "metadata": {},
   "outputs": [
    {
     "name": "stdout",
     "output_type": "stream",
     "text": [
      "Iteration number: 0\n",
      "Iteration number: 1\n",
      "Iteration number: 2\n",
      "Iteration number: 3\n",
      "Iteration number: 4\n",
      "Iteration number: 5\n",
      "Iteration number: 6\n",
      "Iteration number: 7\n",
      "Iteration number: 8\n",
      "Iteration number: 9\n",
      "Iteration number: 10\n",
      "Iteration number: 11\n",
      "Iteration number: 12\n",
      "Iteration number: 13\n",
      "Iteration number: 14\n",
      "Iteration number: 15\n",
      "Iteration number: 16\n",
      "Iteration number: 17\n",
      "Iteration number: 18\n",
      "Iteration number: 19\n",
      "Iteration number: 20\n",
      "Found root at 2.09455\n",
      "Time taken for bisection method\n",
      "0.020990000000001174\n"
     ]
    }
   ],
   "source": [
    "a=2\n",
    "b=3\n",
    "for i in range(max_iterations):\n",
    "    c=(a+b)/2\n",
    "    print(f'Iteration number: {i}')\n",
    "    if abs(f(c))<tolerance:\n",
    "        print(f'Found root at {c:.6}')\n",
    "        print(\"Time taken for bisection method\")\n",
    "        print(timeit())\n",
    "        break\n",
    "    elif f(c)*f(b)<0:\n",
    "        a=c\n",
    "    else:\n",
    "        b=c\n"
   ]
  },
  {
   "cell_type": "code",
   "execution_count": null,
   "id": "8a730eb7",
   "metadata": {},
   "outputs": [],
   "source": []
  },
  {
   "cell_type": "code",
   "execution_count": null,
   "id": "8294ac1c",
   "metadata": {},
   "outputs": [],
   "source": []
  },
  {
   "cell_type": "code",
   "execution_count": null,
   "id": "3cb4f587",
   "metadata": {},
   "outputs": [],
   "source": []
  }
 ],
 "metadata": {
  "kernelspec": {
   "display_name": "Python 3 (ipykernel)",
   "language": "python",
   "name": "python3"
  },
  "language_info": {
   "codemirror_mode": {
    "name": "ipython",
    "version": 3
   },
   "file_extension": ".py",
   "mimetype": "text/x-python",
   "name": "python",
   "nbconvert_exporter": "python",
   "pygments_lexer": "ipython3",
   "version": "3.9.7"
  }
 },
 "nbformat": 4,
 "nbformat_minor": 5
}
